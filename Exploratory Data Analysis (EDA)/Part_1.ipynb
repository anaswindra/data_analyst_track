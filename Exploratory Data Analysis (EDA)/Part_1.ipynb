{
 "cells": [
  {
   "cell_type": "code",
   "execution_count": 1,
   "metadata": {},
   "outputs": [],
   "source": [
    "import pandas as pd"
   ]
  },
  {
   "cell_type": "code",
   "execution_count": 2,
   "metadata": {},
   "outputs": [],
   "source": [
    "order_df = pd.read_csv('https://dqlab-dataset.s3-ap-southeast-1.amazonaws.com/order.csv')"
   ]
  },
  {
   "cell_type": "code",
   "execution_count": 4,
   "metadata": {},
   "outputs": [
    {
     "name": "stdout",
     "output_type": "stream",
     "text": [
      "<class 'pandas.core.frame.DataFrame'>\n",
      "RangeIndex: 49999 entries, 0 to 49998\n",
      "Data columns (total 12 columns):\n",
      " #   Column                 Non-Null Count  Dtype  \n",
      "---  ------                 --------------  -----  \n",
      " 0   order_id               49999 non-null  object \n",
      " 1   quantity               49999 non-null  int64  \n",
      " 2   product_id             49999 non-null  object \n",
      " 3   price                  49999 non-null  int64  \n",
      " 4   seller_id              49999 non-null  object \n",
      " 5   freight_value          49999 non-null  int64  \n",
      " 6   customer_id            49999 non-null  object \n",
      " 7   order_status           49999 non-null  object \n",
      " 8   purchase_date          49999 non-null  object \n",
      " 9   payment_type           49999 non-null  object \n",
      " 10  product_category_name  49999 non-null  object \n",
      " 11  product_weight_gram    49980 non-null  float64\n",
      "dtypes: float64(1), int64(3), object(8)\n",
      "memory usage: 4.6+ MB\n"
     ]
    }
   ],
   "source": [
    "order_df.info()"
   ]
  },
  {
   "cell_type": "code",
   "execution_count": 5,
   "metadata": {},
   "outputs": [
    {
     "data": {
      "text/plain": [
       "(49999, 12)"
      ]
     },
     "execution_count": 5,
     "metadata": {},
     "output_type": "execute_result"
    }
   ],
   "source": [
    "order_df.shape"
   ]
  },
  {
   "cell_type": "code",
   "execution_count": 6,
   "metadata": {},
   "outputs": [
    {
     "data": {
      "text/html": [
       "<div>\n",
       "<style scoped>\n",
       "    .dataframe tbody tr th:only-of-type {\n",
       "        vertical-align: middle;\n",
       "    }\n",
       "\n",
       "    .dataframe tbody tr th {\n",
       "        vertical-align: top;\n",
       "    }\n",
       "\n",
       "    .dataframe thead th {\n",
       "        text-align: right;\n",
       "    }\n",
       "</style>\n",
       "<table border=\"1\" class=\"dataframe\">\n",
       "  <thead>\n",
       "    <tr style=\"text-align: right;\">\n",
       "      <th></th>\n",
       "      <th>order_id</th>\n",
       "      <th>quantity</th>\n",
       "      <th>product_id</th>\n",
       "      <th>price</th>\n",
       "      <th>seller_id</th>\n",
       "      <th>freight_value</th>\n",
       "      <th>customer_id</th>\n",
       "      <th>order_status</th>\n",
       "      <th>purchase_date</th>\n",
       "      <th>payment_type</th>\n",
       "      <th>product_category_name</th>\n",
       "      <th>product_weight_gram</th>\n",
       "    </tr>\n",
       "  </thead>\n",
       "  <tbody>\n",
       "    <tr>\n",
       "      <th>0</th>\n",
       "      <td>2e7a8482f6fb09756ca50c10d7bfc047</td>\n",
       "      <td>2</td>\n",
       "      <td>f293394c72c9b5fafd7023301fc21fc2</td>\n",
       "      <td>1489000</td>\n",
       "      <td>1554a68530182680ad5c8b042c3ab563</td>\n",
       "      <td>28000</td>\n",
       "      <td>08c5351a6aca1c1589a38f244edeee9d</td>\n",
       "      <td>shipped</td>\n",
       "      <td>2016-09-05</td>\n",
       "      <td>virtual account</td>\n",
       "      <td>fashion</td>\n",
       "      <td>1800.0</td>\n",
       "    </tr>\n",
       "    <tr>\n",
       "      <th>1</th>\n",
       "      <td>2e7a8482f6fb09756ca50c10d7bfc047</td>\n",
       "      <td>1</td>\n",
       "      <td>c1488892604e4ba5cff5b4eb4d595400</td>\n",
       "      <td>1756000</td>\n",
       "      <td>1554a68530182680ad5c8b042c3ab563</td>\n",
       "      <td>45000</td>\n",
       "      <td>08c5351a6aca1c1589a38f244edeee9d</td>\n",
       "      <td>shipped</td>\n",
       "      <td>2016-09-05</td>\n",
       "      <td>virtual account</td>\n",
       "      <td>automotive</td>\n",
       "      <td>1400.0</td>\n",
       "    </tr>\n",
       "    <tr>\n",
       "      <th>2</th>\n",
       "      <td>e5fa5a7210941f7d56d0208e4e071d35</td>\n",
       "      <td>1</td>\n",
       "      <td>f3c2d01a84c947b078e32bbef0718962</td>\n",
       "      <td>1707000</td>\n",
       "      <td>a425f92c199eb576938df686728acd20</td>\n",
       "      <td>174000</td>\n",
       "      <td>683c54fc24d40ee9f8a6fc179fd9856c</td>\n",
       "      <td>canceled</td>\n",
       "      <td>2016-09-05</td>\n",
       "      <td>e-wallet</td>\n",
       "      <td>toys</td>\n",
       "      <td>700.0</td>\n",
       "    </tr>\n",
       "    <tr>\n",
       "      <th>3</th>\n",
       "      <td>3b697a20d9e427646d92567910af6d57</td>\n",
       "      <td>1</td>\n",
       "      <td>3ae08df6bcbfe23586dd431c40bddbb7</td>\n",
       "      <td>3071000</td>\n",
       "      <td>522620dcb18a6b31cd7bdf73665113a9</td>\n",
       "      <td>154000</td>\n",
       "      <td>355077684019f7f60a031656bd7262b8</td>\n",
       "      <td>delivered</td>\n",
       "      <td>2016-10-03</td>\n",
       "      <td>e-wallet</td>\n",
       "      <td>utilities</td>\n",
       "      <td>300.0</td>\n",
       "    </tr>\n",
       "    <tr>\n",
       "      <th>4</th>\n",
       "      <td>71303d7e93b399f5bcd537d124c0bcfa</td>\n",
       "      <td>1</td>\n",
       "      <td>d2998d7ced12f83f9b832f33cf6507b6</td>\n",
       "      <td>3833000</td>\n",
       "      <td>25e6ffe976bd75618accfe16cefcbd0d</td>\n",
       "      <td>147000</td>\n",
       "      <td>b106b360fe2ef8849fbbd056f777b4d5</td>\n",
       "      <td>canceled</td>\n",
       "      <td>2016-10-03</td>\n",
       "      <td>e-wallet</td>\n",
       "      <td>fashion</td>\n",
       "      <td>500.0</td>\n",
       "    </tr>\n",
       "  </tbody>\n",
       "</table>\n",
       "</div>"
      ],
      "text/plain": [
       "                           order_id  quantity  \\\n",
       "0  2e7a8482f6fb09756ca50c10d7bfc047         2   \n",
       "1  2e7a8482f6fb09756ca50c10d7bfc047         1   \n",
       "2  e5fa5a7210941f7d56d0208e4e071d35         1   \n",
       "3  3b697a20d9e427646d92567910af6d57         1   \n",
       "4  71303d7e93b399f5bcd537d124c0bcfa         1   \n",
       "\n",
       "                         product_id    price  \\\n",
       "0  f293394c72c9b5fafd7023301fc21fc2  1489000   \n",
       "1  c1488892604e4ba5cff5b4eb4d595400  1756000   \n",
       "2  f3c2d01a84c947b078e32bbef0718962  1707000   \n",
       "3  3ae08df6bcbfe23586dd431c40bddbb7  3071000   \n",
       "4  d2998d7ced12f83f9b832f33cf6507b6  3833000   \n",
       "\n",
       "                          seller_id  freight_value  \\\n",
       "0  1554a68530182680ad5c8b042c3ab563          28000   \n",
       "1  1554a68530182680ad5c8b042c3ab563          45000   \n",
       "2  a425f92c199eb576938df686728acd20         174000   \n",
       "3  522620dcb18a6b31cd7bdf73665113a9         154000   \n",
       "4  25e6ffe976bd75618accfe16cefcbd0d         147000   \n",
       "\n",
       "                        customer_id order_status purchase_date  \\\n",
       "0  08c5351a6aca1c1589a38f244edeee9d      shipped    2016-09-05   \n",
       "1  08c5351a6aca1c1589a38f244edeee9d      shipped    2016-09-05   \n",
       "2  683c54fc24d40ee9f8a6fc179fd9856c     canceled    2016-09-05   \n",
       "3  355077684019f7f60a031656bd7262b8    delivered    2016-10-03   \n",
       "4  b106b360fe2ef8849fbbd056f777b4d5     canceled    2016-10-03   \n",
       "\n",
       "      payment_type product_category_name  product_weight_gram  \n",
       "0  virtual account               fashion               1800.0  \n",
       "1  virtual account            automotive               1400.0  \n",
       "2         e-wallet                  toys                700.0  \n",
       "3         e-wallet             utilities                300.0  \n",
       "4         e-wallet               fashion                500.0  "
      ]
     },
     "execution_count": 6,
     "metadata": {},
     "output_type": "execute_result"
    }
   ],
   "source": [
    "order_df.head()"
   ]
  },
  {
   "cell_type": "code",
   "execution_count": 7,
   "metadata": {},
   "outputs": [
    {
     "data": {
      "text/html": [
       "<div>\n",
       "<style scoped>\n",
       "    .dataframe tbody tr th:only-of-type {\n",
       "        vertical-align: middle;\n",
       "    }\n",
       "\n",
       "    .dataframe tbody tr th {\n",
       "        vertical-align: top;\n",
       "    }\n",
       "\n",
       "    .dataframe thead th {\n",
       "        text-align: right;\n",
       "    }\n",
       "</style>\n",
       "<table border=\"1\" class=\"dataframe\">\n",
       "  <thead>\n",
       "    <tr style=\"text-align: right;\">\n",
       "      <th></th>\n",
       "      <th>quantity</th>\n",
       "      <th>price</th>\n",
       "      <th>freight_value</th>\n",
       "      <th>product_weight_gram</th>\n",
       "    </tr>\n",
       "  </thead>\n",
       "  <tbody>\n",
       "    <tr>\n",
       "      <th>count</th>\n",
       "      <td>49999.000000</td>\n",
       "      <td>4.999900e+04</td>\n",
       "      <td>49999.000000</td>\n",
       "      <td>49980.000000</td>\n",
       "    </tr>\n",
       "    <tr>\n",
       "      <th>mean</th>\n",
       "      <td>1.197484</td>\n",
       "      <td>2.607784e+06</td>\n",
       "      <td>104521.390428</td>\n",
       "      <td>2201.830892</td>\n",
       "    </tr>\n",
       "    <tr>\n",
       "      <th>std</th>\n",
       "      <td>0.722262</td>\n",
       "      <td>1.388312e+06</td>\n",
       "      <td>55179.844962</td>\n",
       "      <td>3929.896875</td>\n",
       "    </tr>\n",
       "    <tr>\n",
       "      <th>min</th>\n",
       "      <td>1.000000</td>\n",
       "      <td>2.000000e+05</td>\n",
       "      <td>9000.000000</td>\n",
       "      <td>50.000000</td>\n",
       "    </tr>\n",
       "    <tr>\n",
       "      <th>25%</th>\n",
       "      <td>1.000000</td>\n",
       "      <td>1.410500e+06</td>\n",
       "      <td>57000.000000</td>\n",
       "      <td>300.000000</td>\n",
       "    </tr>\n",
       "    <tr>\n",
       "      <th>50%</th>\n",
       "      <td>1.000000</td>\n",
       "      <td>2.610000e+06</td>\n",
       "      <td>104000.000000</td>\n",
       "      <td>800.000000</td>\n",
       "    </tr>\n",
       "    <tr>\n",
       "      <th>75%</th>\n",
       "      <td>1.000000</td>\n",
       "      <td>3.810000e+06</td>\n",
       "      <td>152000.000000</td>\n",
       "      <td>1850.000000</td>\n",
       "    </tr>\n",
       "    <tr>\n",
       "      <th>max</th>\n",
       "      <td>21.000000</td>\n",
       "      <td>5.000000e+06</td>\n",
       "      <td>200000.000000</td>\n",
       "      <td>40425.000000</td>\n",
       "    </tr>\n",
       "  </tbody>\n",
       "</table>\n",
       "</div>"
      ],
      "text/plain": [
       "           quantity         price  freight_value  product_weight_gram\n",
       "count  49999.000000  4.999900e+04   49999.000000         49980.000000\n",
       "mean       1.197484  2.607784e+06  104521.390428          2201.830892\n",
       "std        0.722262  1.388312e+06   55179.844962          3929.896875\n",
       "min        1.000000  2.000000e+05    9000.000000            50.000000\n",
       "25%        1.000000  1.410500e+06   57000.000000           300.000000\n",
       "50%        1.000000  2.610000e+06  104000.000000           800.000000\n",
       "75%        1.000000  3.810000e+06  152000.000000          1850.000000\n",
       "max       21.000000  5.000000e+06  200000.000000         40425.000000"
      ]
     },
     "execution_count": 7,
     "metadata": {},
     "output_type": "execute_result"
    }
   ],
   "source": [
    "order_df.describe()"
   ]
  },
  {
   "cell_type": "code",
   "execution_count": 8,
   "metadata": {},
   "outputs": [
    {
     "data": {
      "text/plain": [
       "2610000.0"
      ]
     },
     "execution_count": 8,
     "metadata": {},
     "output_type": "execute_result"
    }
   ],
   "source": [
    "order_df.loc[:, \"price\"].median()"
   ]
  }
 ],
 "metadata": {
  "kernelspec": {
   "display_name": "Python 3",
   "language": "python",
   "name": "python3"
  },
  "language_info": {
   "codemirror_mode": {
    "name": "ipython",
    "version": 3
   },
   "file_extension": ".py",
   "mimetype": "text/x-python",
   "name": "python",
   "nbconvert_exporter": "python",
   "pygments_lexer": "ipython3",
   "version": "3.8.5"
  }
 },
 "nbformat": 4,
 "nbformat_minor": 4
}
