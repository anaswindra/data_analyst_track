{
 "cells": [
  {
   "cell_type": "markdown",
   "metadata": {},
   "source": [
    "## Mini Quiz Part 3"
   ]
  },
  {
   "cell_type": "markdown",
   "metadata": {},
   "source": [
    "Study Case\n",
    "\n",
    "\n",
    "At this company, an incoming data analyst 22 years old, has salary value of 6.000.000 and overtime incentive of 100.000\n",
    "For an incoming data scientist who is 25 years old, has salary value of 10.000.000 and overtime incentive of 150.000\n",
    "For freelancers there is only a general income of 4.000.000 for data cleaners and 2.000.000 for technical documentaries\n",
    "\n",
    "Detail company\n",
    "Name : WomenCreate\n",
    "Address : 9 Science Park, WomenCreate Building, Indonesia\n",
    "Telephone : (021) 93245XX\n",
    "\n",
    "Task :\n",
    "- Develop simulation program for this case\n",
    "- Print out the total salary that company spent to the employees to check the functional concept and polymorphism technique\n"
   ]
  },
  {
   "cell_type": "code",
   "execution_count": 9,
   "metadata": {},
   "outputs": [],
   "source": [
    "# Define Employee class as a parent class\n",
    "class Employee:\n",
    "    def __init__(self, name, age, salary, overtime_allowance):\n",
    "        self.name = name\n",
    "        self.age = age\n",
    "        self.salary = salary\n",
    "        self.overtime_allowance = overtime_allowance\n",
    "        self.incentive = 0        \n",
    "    def overtime(self):\n",
    "        self.incentive += self.overtime_allowance        \n",
    "    def project_incentive(self, amountofincentive):\n",
    "        self.incentive += amountofincentive\n",
    "    def total_salary(self):\n",
    "        return self.salary + self.incentive \n",
    "        \n",
    "# Define Freelance class as a child class from Employee class\n",
    "class Freelance(Employee):\n",
    "    def __init__(self, name, age, salary):\n",
    "        super().__init__(name, age, salary, 0)\n",
    "    def project_incentive(self, project_value):\n",
    "        self.incentive += project_value * 0.1\n",
    "    \n",
    "# Define DataAnalyst class as a child class from Employee class\n",
    "class DataAnalyst(Employee):\n",
    "    def __init__(self, name, age = 22, salary = 6000000, overtime_allowance = 100000):\n",
    "        super().__init__(name, age, salary, overtime_allowance)\n",
    "        \n",
    "# Define DataScientist class as a child class from Employee class\n",
    "class DataScientist(Employee):\n",
    "    def __init__(self, name, age = 25, salary = 10000000, overtime_allowance = 150000):\n",
    "        super().__init__(name, age, salary, overtime_allowance)\n",
    "    def project_incentive(self, project_value):\n",
    "        self.incentive += project_value * 0.1\n",
    "        \n",
    "# Define DataCleaner clas as a child class from Freelance class\n",
    "class DataCleaner(Freelance):\n",
    "    def __init__(self, name, age, salary = 4000000):\n",
    "        super().__init__(name, age, salary)\n",
    "        \n",
    "# Define TechnicalDocumentaries class as a child class from Freelance class\n",
    "class TechnicalDocumentaries(Freelance):\n",
    "    def __init__(self, name, age, salary = 2000000):\n",
    "        super().__init__(name, age, salary)\n",
    "    def project_incentive(self, additional_amount):\n",
    "        return\n",
    "        \n",
    "# Define Company class\n",
    "class Company:\n",
    "    def __init__(self, name, address, telephone):\n",
    "        self.name = name\n",
    "        self.address = address\n",
    "        self.telephone = telephone\n",
    "        self.employees = []        \n",
    "    def activate_employee(self, employee):\n",
    "        self.employees.append(employee)\n",
    "    def deactivate_employee(self, employee_name):\n",
    "        nonactive_employee = None\n",
    "        for employee in self.employees:\n",
    "            if employee.name == employee_name:\n",
    "                nonactive_employee = employee\n",
    "                break\n",
    "        if nonactive_employee is not None:\n",
    "            self.employees.remove(nonactive_employee)\n",
    "    def total_cost(self):\n",
    "        cost = 0\n",
    "        for employee in self.employees:\n",
    "            cost += employee.total_salary()\n",
    "        return cost\n",
    "    def search_employee(self, name):\n",
    "        for employee in self.employees:\n",
    "            if employee.name == name:\n",
    "                return employee\n",
    "        return None\n",
    "    \n"
   ]
  },
  {
   "cell_type": "code",
   "execution_count": 10,
   "metadata": {},
   "outputs": [],
   "source": [
    "# Create employee object based on their task\n",
    "alex = DataAnalyst('Alex')\n",
    "rena = TechnicalDocumentaries('Rena', 19)\n",
    "vanda = DataScientist('Vanda')\n",
    "iyan = DataScientist('Iyan', 33, 22000000)\n",
    "jira = DataCleaner('Jira', 24)\n",
    "kinan = DataAnalyst('Kinan', 29, 12000000)\n",
    "\n",
    "# Create company object\n",
    "company = Company('WomenCreate', '9 Science Park, WomenCreate Building, Indonesia', '(021) 93245XX')"
   ]
  },
  {
   "cell_type": "code",
   "execution_count": 11,
   "metadata": {},
   "outputs": [],
   "source": [
    "# Activate each employees that already defined\n",
    "company.activate_employee(alex)\n",
    "company.activate_employee(rena)\n",
    "company.activate_employee(vanda)\n",
    "company.activate_employee(iyan)\n",
    "company.activate_employee(jira)\n",
    "company.activate_employee(kinan)"
   ]
  },
  {
   "cell_type": "code",
   "execution_count": 14,
   "metadata": {},
   "outputs": [
    {
     "name": "stdout",
     "output_type": "stream",
     "text": [
      "Total Employees Salary : 56000000\n"
     ]
    }
   ],
   "source": [
    "# Checking total cost\n",
    "print('Total Employees Salary : ' + str(company.total_cost()))"
   ]
  }
 ],
 "metadata": {
  "kernelspec": {
   "display_name": "Python 3",
   "language": "python",
   "name": "python3"
  },
  "language_info": {
   "codemirror_mode": {
    "name": "ipython",
    "version": 3
   },
   "file_extension": ".py",
   "mimetype": "text/x-python",
   "name": "python",
   "nbconvert_exporter": "python",
   "pygments_lexer": "ipython3",
   "version": "3.8.5"
  }
 },
 "nbformat": 4,
 "nbformat_minor": 4
}
